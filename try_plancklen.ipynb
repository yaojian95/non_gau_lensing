{
 "cells": [
  {
   "cell_type": "code",
   "execution_count": 1,
   "id": "554f67d4-dae7-483c-81c3-2acee6f93720",
   "metadata": {
    "execution": {
     "iopub.execute_input": "2023-11-16T08:52:47.513023Z",
     "iopub.status.busy": "2023-11-16T08:52:47.512729Z",
     "iopub.status.idle": "2023-11-16T08:52:47.895931Z",
     "shell.execute_reply": "2023-11-16T08:52:47.895348Z",
     "shell.execute_reply.started": "2023-11-16T08:52:47.513004Z"
    },
    "tags": []
   },
   "outputs": [],
   "source": [
    "import os\n",
    "\n",
    "os.environ[\n",
    "    \"OMP_NUM_THREADS\"\n",
    "] = \"128\"  # for jupyter.nersc.gov otherwise the notebook only uses 2 cores\n",
    "\n",
    "import matplotlib as mpl\n",
    "mpl.rc('image', cmap='coolwarm')\n",
    "\n",
    "import matplotlib.pyplot as plt\n",
    "%matplotlib inline"
   ]
  },
  {
   "cell_type": "code",
   "execution_count": 2,
   "id": "43dd30f9-5de6-4858-b183-13cc0d982175",
   "metadata": {
    "execution": {
     "iopub.execute_input": "2023-11-16T08:52:47.902129Z",
     "iopub.status.busy": "2023-11-16T08:52:47.901849Z",
     "iopub.status.idle": "2023-11-16T08:52:47.904270Z",
     "shell.execute_reply": "2023-11-16T08:52:47.903905Z",
     "shell.execute_reply.started": "2023-11-16T08:52:47.902113Z"
    },
    "tags": []
   },
   "outputs": [],
   "source": [
    "import os"
   ]
  },
  {
   "cell_type": "code",
   "execution_count": 3,
   "id": "575ddd14-73f8-4d96-8cd2-7e1798bfbe2b",
   "metadata": {
    "execution": {
     "iopub.execute_input": "2023-11-16T08:52:47.905017Z",
     "iopub.status.busy": "2023-11-16T08:52:47.904787Z",
     "iopub.status.idle": "2023-11-16T08:52:47.908588Z",
     "shell.execute_reply": "2023-11-16T08:52:47.908147Z",
     "shell.execute_reply.started": "2023-11-16T08:52:47.905003Z"
    },
    "tags": []
   },
   "outputs": [],
   "source": [
    "os.environ['data'] = '/pscratch/sd/j/jianyao/data_lensing/simulations/'"
   ]
  },
  {
   "cell_type": "code",
   "execution_count": 4,
   "id": "c6e9f6e6-52b0-4f7a-8147-4becc4e72116",
   "metadata": {
    "execution": {
     "iopub.execute_input": "2023-11-16T08:52:47.909243Z",
     "iopub.status.busy": "2023-11-16T08:52:47.909100Z",
     "iopub.status.idle": "2023-11-16T08:52:47.911371Z",
     "shell.execute_reply": "2023-11-16T08:52:47.910994Z",
     "shell.execute_reply.started": "2023-11-16T08:52:47.909230Z"
    },
    "tags": []
   },
   "outputs": [],
   "source": [
    "from os.path import join as opj"
   ]
  },
  {
   "cell_type": "code",
   "execution_count": 5,
   "id": "80f3dbd7-22f2-46d8-8df4-1ab6bf01cce6",
   "metadata": {
    "execution": {
     "iopub.execute_input": "2023-11-16T08:52:47.912079Z",
     "iopub.status.busy": "2023-11-16T08:52:47.911855Z",
     "iopub.status.idle": "2023-11-16T08:52:48.981757Z",
     "shell.execute_reply": "2023-11-16T08:52:48.981141Z",
     "shell.execute_reply.started": "2023-11-16T08:52:47.912064Z"
    },
    "tags": []
   },
   "outputs": [],
   "source": [
    "import healpy as hp\n",
    "import numpy as np"
   ]
  },
  {
   "cell_type": "code",
   "execution_count": 6,
   "id": "f20ab3ad-42ad-4ce9-9b5c-75c3bc01a915",
   "metadata": {
    "execution": {
     "iopub.execute_input": "2023-11-16T08:52:48.982696Z",
     "iopub.status.busy": "2023-11-16T08:52:48.982471Z",
     "iopub.status.idle": "2023-11-16T08:52:48.993647Z",
     "shell.execute_reply": "2023-11-16T08:52:48.993224Z",
     "shell.execute_reply.started": "2023-11-16T08:52:48.982679Z"
    },
    "tags": []
   },
   "outputs": [],
   "source": [
    "# Finally, synfast will build a realization of the lensed maps for you from scratch\n",
    "from lenspyx import synfast\n",
    "from lenspyx.utils import camb_clfile"
   ]
  },
  {
   "cell_type": "code",
   "execution_count": 40,
   "id": "32d29754-601d-464a-a8d4-3443030e683e",
   "metadata": {
    "execution": {
     "iopub.execute_input": "2023-11-16T09:01:46.477096Z",
     "iopub.status.busy": "2023-11-16T09:01:46.476727Z",
     "iopub.status.idle": "2023-11-16T09:01:46.480477Z",
     "shell.execute_reply": "2023-11-16T09:01:46.479979Z",
     "shell.execute_reply.started": "2023-11-16T09:01:46.477077Z"
    },
    "tags": []
   },
   "outputs": [],
   "source": [
    "import plancklens\n",
    "from plancklens.filt import filt_simple, filt_util\n",
    "from plancklens import utils\n",
    "from plancklens import qest, qecl, qresp\n",
    "from plancklens import nhl\n",
    "from plancklens.n1 import n1\n",
    "from plancklens.sims import planck2018_sims, phas, maps, utils as maps_utils"
   ]
  },
  {
   "cell_type": "code",
   "execution_count": 8,
   "id": "80c6f5a8-e3f7-4f40-8986-b1ceb1c7f677",
   "metadata": {
    "execution": {
     "iopub.execute_input": "2023-11-16T08:52:49.019495Z",
     "iopub.status.busy": "2023-11-16T08:52:49.019298Z",
     "iopub.status.idle": "2023-11-16T08:52:49.338096Z",
     "shell.execute_reply": "2023-11-16T08:52:49.337533Z",
     "shell.execute_reply.started": "2023-11-16T08:52:49.019480Z"
    },
    "tags": []
   },
   "outputs": [],
   "source": [
    "import pysm3 \n",
    "import pysm3.units as u"
   ]
  },
  {
   "cell_type": "code",
   "execution_count": 9,
   "id": "46e762a0-ae79-4fce-b2b9-e84c2a0377e4",
   "metadata": {
    "execution": {
     "iopub.execute_input": "2023-11-16T08:52:49.338963Z",
     "iopub.status.busy": "2023-11-16T08:52:49.338795Z",
     "iopub.status.idle": "2023-11-16T08:52:49.341386Z",
     "shell.execute_reply": "2023-11-16T08:52:49.341024Z",
     "shell.execute_reply.started": "2023-11-16T08:52:49.338946Z"
    },
    "tags": []
   },
   "outputs": [],
   "source": [
    "from plancklens.utils import clhash, hash_check"
   ]
  },
  {
   "cell_type": "code",
   "execution_count": 11,
   "id": "f00f0e33-3bbc-41f2-86ff-623f997c2967",
   "metadata": {
    "execution": {
     "iopub.execute_input": "2023-11-16T08:33:16.445321Z",
     "iopub.status.busy": "2023-11-16T08:33:16.445047Z",
     "iopub.status.idle": "2023-11-16T08:33:16.447929Z",
     "shell.execute_reply": "2023-11-16T08:33:16.447491Z",
     "shell.execute_reply.started": "2023-11-16T08:33:16.445304Z"
    },
    "tags": []
   },
   "outputs": [],
   "source": [
    "# lmax_len = 3000 # desired lmax of the lensed field.\n",
    "# dlmax = 1024  # lmax of the unlensed fields is lmax + dlmax.  (some buffer is required for accurate lensing at lmax)\n",
    "# epsilon = 1e-6 # target accuracy of the output maps (execution time has a fairly weak dependence on this)\n",
    "# lmax_unl, mmax_unl = lmax_len + dlmax, lmax_len + dlmax\n",
    "# NSIDE = 2048 "
   ]
  },
  {
   "cell_type": "code",
   "execution_count": 10,
   "id": "518febfb-f1a1-422b-8f0c-7dade0ae3ee5",
   "metadata": {
    "execution": {
     "iopub.execute_input": "2023-11-16T08:52:50.106945Z",
     "iopub.status.busy": "2023-11-16T08:52:50.106618Z",
     "iopub.status.idle": "2023-11-16T08:52:50.109779Z",
     "shell.execute_reply": "2023-11-16T08:52:50.109328Z",
     "shell.execute_reply.started": "2023-11-16T08:52:50.106926Z"
    },
    "tags": []
   },
   "outputs": [],
   "source": [
    "cls_path = '/global/homes/j/jianyao/non_gau_lensing/theory/cls/'"
   ]
  },
  {
   "cell_type": "markdown",
   "id": "1b192cc8-40ed-44a7-9209-0af8b3de38e6",
   "metadata": {},
   "source": [
    "# simulation class"
   ]
  },
  {
   "cell_type": "code",
   "execution_count": 26,
   "id": "6b540d5f-4d04-4517-93f9-a60c14f8a967",
   "metadata": {
    "execution": {
     "iopub.execute_input": "2023-11-16T08:54:46.417063Z",
     "iopub.status.busy": "2023-11-16T08:54:46.416748Z",
     "iopub.status.idle": "2023-11-16T08:54:46.428501Z",
     "shell.execute_reply": "2023-11-16T08:54:46.428007Z",
     "shell.execute_reply.started": "2023-11-16T08:54:46.417043Z"
    },
    "tags": []
   },
   "outputs": [],
   "source": [
    "class cmb_len(object):\n",
    "\n",
    "    def __init__(self, add_foreground = False):\n",
    "        \n",
    "        if add_foreground:\n",
    "            self.add_foreground = add_foreground\n",
    "        \n",
    "        else:\n",
    "            self.add_foreground = 'no_fore'\n",
    "        \n",
    "        self.dirs = os.environ[\"data\"] + 'cmb_plus_%s'%add_foreground\n",
    "        \n",
    "    def hashdict(self):\n",
    "        return {'sim_lib': 'ffp10 lensed scalar cmb inputs, freq 0'}\n",
    "\n",
    "    # @staticmethod\n",
    "    def get_sim_tlm(self, idx):\n",
    "        \n",
    "        return hp.read_alm(opj(self.dirs, 'lensed_scl_cmb_plus_%s_alm_mc_%04d.fits'%(self.add_foreground, idx)), hdu=1)\n",
    "    \n",
    "    # @staticmethod\n",
    "    def get_sim_elm(self, idx):\n",
    "\n",
    "        return hp.read_alm(opj(self.dirs, 'lensed_scl_cmb_plus_%s_alm_mc_%04d.fits'%(self.add_foreground, idx)), hdu=2)\n",
    "\n",
    "    # @staticmethod\n",
    "    def get_sim_blm(self, idx):\n",
    "\n",
    "        return hp.read_alm(opj(self.dirs, 'lensed_scl_cmb_plus_%s_alm_mc_%04d.fits'%(self.add_foreground, idx)), hdu=3)\n",
    "    \n",
    "    \n",
    "class cmb_noise(object):\n",
    "    r\"\"\"CMB simulation library combining a lensed CMB library and a transfer function.\n",
    "\n",
    "        Args:\n",
    "            sims_cmb_len: lensed CMB library (e.g. *plancklens.sims.planck2018_sims.cmb_len_ffp10*)\n",
    "            cl_transf: CMB temperature transfer function\n",
    "            nside: healpy resolution of the maps. Defaults to 2048.\n",
    "            lib_dir(optional): hash checks will be cached, as well as possibly other things for subclasses.\n",
    "            cl_transf_P: CMB pol transfer function (if different from cl_transf)\n",
    "\n",
    "    \"\"\"\n",
    "    def __init__(self, sims_cmb_len, cl_transf, nlev_t, nlev_p, nside=2048, cl_transf_P=None, lib_dir=None):\n",
    "        if cl_transf_P is None:\n",
    "            cl_transf_P = np.copy(cl_transf)\n",
    "\n",
    "        self.sims_cmb_len = sims_cmb_len\n",
    "        self.cl_transf_T = cl_transf\n",
    "        self.cl_transf_P = cl_transf_P\n",
    "        self.nside = nside\n",
    "        self.nlev_t = nlev_t\n",
    "        self.nlev_p = nlev_p\n",
    "        self.vamin = np.sqrt(hp.nside2pixarea(self.nside, degrees=True)) * 60\n",
    "\n",
    "        if lib_dir is not None:\n",
    "            fn_hash = os.path.join(lib_dir, 'sim_hash.pk')\n",
    "            if mpi.rank == 0 and not os.path.exists(fn_hash):\n",
    "                pk.dump(self.hashdict(), open(fn_hash, 'wb'), protocol=2)\n",
    "            mpi.barrier()\n",
    "            hash_check(self.hashdict(), pk.load(open(fn_hash, 'rb')), fn=fn_hash)\n",
    "\n",
    "    def hashdict(self):\n",
    "        ret = {'sims_cmb_len':self.sims_cmb_len.hashdict(),'nside':self.nside,'cl_transf':clhash(self.cl_transf_T)}\n",
    "        if not (np.all(self.cl_transf_P == self.cl_transf_T)):\n",
    "            ret['cl_transf_P'] = clhash(self.cl_transf_P)\n",
    "        return ret\n",
    "\n",
    "    def get_sim_tmap(self,idx):\n",
    "        \"\"\"Returns temperature healpy map for a simulation\n",
    "\n",
    "            Args:\n",
    "                idx: simulation index\n",
    "\n",
    "            Returns:\n",
    "                healpy map\n",
    "\n",
    "        \"\"\"\n",
    "        tmap = self.sims_cmb_len.get_sim_tlm(idx)\n",
    "        hp.almxfl(tmap,self.cl_transf_T,inplace=True)\n",
    "        tmap = hp.alm2map(tmap,self.nside)\n",
    "        return tmap + self.get_sim_tnoise(idx)\n",
    "\n",
    "    def get_sim_pmap(self,idx):\n",
    "        \"\"\"Returns polarization healpy maps for a simulation\n",
    "\n",
    "            Args:\n",
    "                idx: simulation index\n",
    "\n",
    "            Returns:\n",
    "                Q and U healpy maps\n",
    "\n",
    "        \"\"\"\n",
    "        elm = self.sims_cmb_len.get_sim_elm(idx)\n",
    "        hp.almxfl(elm,self.cl_transf_P,inplace=True)\n",
    "        blm = self.sims_cmb_len.get_sim_blm(idx)\n",
    "        hp.almxfl(blm, self.cl_transf_P, inplace=True)\n",
    "        Q,U = hp.alm2map_spin([elm,blm], self.nside, 2,hp.Alm.getlmax(elm.size))\n",
    "        del elm,blm\n",
    "        return Q + self.get_sim_qnoise(idx),U + self.get_sim_unoise(idx)\n",
    "\n",
    "    def get_sim_tnoise(self,idx):\n",
    "        \n",
    "        return self.nlev_t / self.vamin * np.load(opj(os.environ[\"data\"],'noise/noise_1uK_amin_map_mc_%04d.npy'%idx))[0] # one frequency for now 11.15\n",
    "\n",
    "    def get_sim_qnoise(self, idx):\n",
    "        \n",
    "        return self.nlev_p / self.vamin * np.load(opj(os.environ[\"data\"],'noise/noise_1uK_amin_map_mc_%04d.npy'%idx))[1]\n",
    "\n",
    "    def get_sim_unoise(self, idx):\n",
    "        \n",
    "        return self.nlev_p / self.vamin * np.load(opj(os.environ[\"data\"],'noise/noise_1uK_amin_map_mc_%04d.npy'%idx))[2]"
   ]
  },
  {
   "cell_type": "code",
   "execution_count": 24,
   "id": "644a397e-c500-4514-a081-8c607ced6fe2",
   "metadata": {
    "execution": {
     "iopub.execute_input": "2023-11-16T08:53:47.334197Z",
     "iopub.status.busy": "2023-11-16T08:53:47.333955Z",
     "iopub.status.idle": "2023-11-16T08:53:47.343119Z",
     "shell.execute_reply": "2023-11-16T08:53:47.342680Z",
     "shell.execute_reply.started": "2023-11-16T08:53:47.334181Z"
    },
    "tags": []
   },
   "outputs": [],
   "source": [
    "def gen_noise_map(nlep, nside, N):\n",
    "    \n",
    "    '''\n",
    "    nlep: noise level for each frequency band\n",
    "    '''\n",
    "    depth_p =np.array(nlep)\n",
    "    depth_i = depth_p/np.sqrt(2)\n",
    "    pix_amin2 = 4. * np.pi / float(hp.nside2npix(nside)) * (180. * 60. / np.pi) ** 2\n",
    "    \"\"\"sigma_pix_I/P is std of noise per pixel. It is an array of length\n",
    "    equal to the number of input maps.\"\"\"\n",
    "    sigma_pix_I = np.sqrt(depth_i ** 2 / pix_amin2)\n",
    "    sigma_pix_P = np.sqrt(depth_p ** 2 / pix_amin2)\n",
    "    npix = hp.nside2npix(nside)\n",
    "    \n",
    "    for i in range(N):\n",
    "        noise = np.random.randn(len(depth_i), 3, npix) # first dimension is the index of frequency band\n",
    "        noise[:, 0, :] *= sigma_pix_I[:, None]\n",
    "        noise[:, 1, :] *= sigma_pix_P[:, None]\n",
    "        noise[:, 2, :] *= sigma_pix_P[:, None]\n",
    "        \n",
    "        np.save(opj(os.environ[\"data\"],'noise/noise_1uK_amin_map_mc_%04d.npy'%i), noise[0]) # one frequency for now 11.15\n",
    "\n",
    "def gen_cmb_len_alm(nside, N, fwhm = None, add_foreground = False):\n",
    "    \n",
    "    '''\n",
    "    return one realization of unlensed CMB map and lensed CMB map with the beam applied\n",
    "    '''\n",
    "    \n",
    "    cl_unl = camb_clfile(os.path.join(cls_path, 'FFP10_wdipole_lenspotentialCls.dat'))\n",
    "    geom_info = ('healpix', {'nside':nside}) # Geometry parametrized as above, this is the default\n",
    "    \n",
    "    for i in range(N):\n",
    "        maps = synfast(cl_unl, lmax=lmax_unl, verbose=1, geometry=geom_info, alm = True)\n",
    "        # Generations of the unlensed alms will include all correlations as given in the cl_unl dictionary\n",
    "        # Feed-in alm=True to return the unlensed alm as well\n",
    "\n",
    "        cmb_len = np.row_stack((maps[0]['T'], maps[0]['QU']))\n",
    "        # cmb_len = hp.smoothing(cmb_len, fwhm = fwhm)\n",
    "        # cmb_unl = hp.alm2map(maps[1][0], nside = NSIDE, fwhm = fwhm)\n",
    "        \n",
    "        if add_foreground == 'd0':\n",
    "            sky = pysm3.Sky(nside=nside, preset_strings=[\"d0\"])\n",
    "            map_100GHz = sky.get_emission(100 * u.GHz)\n",
    "            map_100GHz = map_100GHz.to(u.uK_CMB, equivalencies=u.cmb_equivalencies(100*u.GHz))\n",
    "            \n",
    "            map_100GHz = map_100GHz.value + cmb_len\n",
    "            alms = hp.map2alm(map_100GHz)\n",
    "            \n",
    "        elif add_foreground == 'forse3':\n",
    "            \n",
    "            map_100GHz = np.zeros((3, 12*nside**2))\n",
    "            \n",
    "            forse_Q = hp.read_map('/pscratch/sd/j/jianyao/data_lensing/processed_dust_maps/forse_dust_Q_353GHz_3amin_nside4096_uK_CMB.fits')\n",
    "            forse_U = hp.read_map('/pscratch/sd/j/jianyao/data_lensing/processed_dust_maps/forse_dust_U_353GHz_3amin_nside4096_uK_CMB.fits')\n",
    "            \n",
    "            map_100GHz[1] = pysm3.apply_smoothing_and_coord_transform(forse_Q, output_nside=nside)\n",
    "            map_100GHz[2] = pysm3.apply_smoothing_and_coord_transform(forse_U, output_nside=nside)\n",
    "            \n",
    "            map_100GHz = map_100GHz + cmb_len\n",
    "            alms = hp.map2alm(map_100GHz)         \n",
    "            \n",
    "        elif add_foreground is False:\n",
    "            \n",
    "            add_foreground = 'no_fore'\n",
    "            alms = hp.map2alm(cmb_len)        \n",
    "    \n",
    "        dirs = os.environ[\"data\"] + 'cmb_plus_%s'%add_foreground\n",
    "        if not os.path.exists(dirs):\n",
    "            os.makedirs(dirs)\n",
    "\n",
    "        hp.write_alm(opj(dirs, 'lensed_scl_cmb_plus_%s_alm_mc_%04d.fits'%(add_foreground, i)), alms)"
   ]
  },
  {
   "cell_type": "markdown",
   "id": "8b2814ef-826d-44f5-ab67-49865d744c00",
   "metadata": {},
   "source": [
    "## generating maps"
   ]
  },
  {
   "cell_type": "code",
   "execution_count": 128,
   "id": "eca401c7-599d-4c25-9997-8bd992439c9d",
   "metadata": {
    "execution": {
     "iopub.execute_input": "2023-11-15T15:49:52.362415Z",
     "iopub.status.busy": "2023-11-15T15:49:52.361899Z",
     "iopub.status.idle": "2023-11-15T15:52:12.886927Z",
     "shell.execute_reply": "2023-11-15T15:52:12.885846Z",
     "shell.execute_reply.started": "2023-11-15T15:49:52.362390Z"
    },
    "tags": []
   },
   "outputs": [
    {
     "name": "stdout",
     "output_type": "stream",
     "text": [
      "  cl matrix        :  [0:00:00.026402] (0.5%)  \n",
      "  phases generation:  [0:00:01.015234] (21.1%)  \n",
      "  alms from phases :  [0:00:01.254764] (26.0%)  \n",
      "  alm2lenmap       :  [0:00:02.460395] (51.0%)  \n",
      "  Total            :  [0:00:04.821393] d:h:m:s:mus\n"
     ]
    }
   ],
   "source": [
    "# gen_noise_map(nlep=[1.0,], nside=1024, N = 1)\n",
    "# gen_cmb_len_alm(nside=1024, N = 1, add_foreground='d0')\n",
    "gen_cmb_len_alm(nside=1024, N = 1, add_foreground='forse3')"
   ]
  },
  {
   "cell_type": "code",
   "execution_count": 129,
   "id": "5ae8f426-a6e3-4708-8798-131452518afd",
   "metadata": {
    "execution": {
     "iopub.execute_input": "2023-11-15T15:54:06.092512Z",
     "iopub.status.busy": "2023-11-15T15:54:06.091990Z",
     "iopub.status.idle": "2023-11-15T15:55:07.980911Z",
     "shell.execute_reply": "2023-11-15T15:55:07.979864Z",
     "shell.execute_reply.started": "2023-11-15T15:54:06.092486Z"
    },
    "tags": []
   },
   "outputs": [
    {
     "name": "stdout",
     "output_type": "stream",
     "text": [
      "  cl matrix        :  [0:00:00.031109] (0.7%)  \n",
      "  phases generation:  [0:00:01.048289] (22.6%)  \n",
      "  alms from phases :  [0:00:01.255560] (27.1%)  \n",
      "  alm2lenmap       :  [0:00:02.249424] (48.6%)  \n",
      "  Total            :  [0:00:04.628330] d:h:m:s:mus\n"
     ]
    }
   ],
   "source": [
    "gen_cmb_len_alm(nside=1024, N = 1, add_foreground=False)"
   ]
  },
  {
   "cell_type": "markdown",
   "id": "4d327775-28e3-415d-b70c-67f5d975b476",
   "metadata": {},
   "source": [
    "# apply plancklens"
   ]
  },
  {
   "cell_type": "code",
   "execution_count": 33,
   "id": "3fcef657-0f11-417e-8633-6967d85058dc",
   "metadata": {
    "execution": {
     "iopub.execute_input": "2023-11-16T09:00:04.657034Z",
     "iopub.status.busy": "2023-11-16T09:00:04.656527Z",
     "iopub.status.idle": "2023-11-16T09:00:04.660693Z",
     "shell.execute_reply": "2023-11-16T09:00:04.659972Z",
     "shell.execute_reply.started": "2023-11-16T09:00:04.657012Z"
    },
    "tags": []
   },
   "outputs": [],
   "source": [
    "# os.environ['PLENS'] = '/pscratch/sd/j/jianyao/data_lensing/only_noise'\n",
    "os.environ['PLENS'] = '/pscratch/sd/j/jianyao/data_lensing/c_n_forse3'\n",
    "TEMP =  os.path.join(os.environ['PLENS'], 'temp')"
   ]
  },
  {
   "cell_type": "code",
   "execution_count": 14,
   "id": "46607936-851b-4ebc-aaa6-9b1d5890f785",
   "metadata": {
    "execution": {
     "iopub.execute_input": "2023-11-16T08:52:57.071527Z",
     "iopub.status.busy": "2023-11-16T08:52:57.071222Z",
     "iopub.status.idle": "2023-11-16T08:52:57.078763Z",
     "shell.execute_reply": "2023-11-16T08:52:57.078329Z",
     "shell.execute_reply.started": "2023-11-16T08:52:57.071508Z"
    },
    "tags": []
   },
   "outputs": [],
   "source": [
    "#--- definition of simulation and inverse-variance filtered simulation libraries:\n",
    "lmax_ivf = 2048\n",
    "lmin_ivf = 100  # We will use in the QE only CMB modes between lmin_ivf and lmax_ivf\n",
    "lmax_qlm = 2048 # We will calculate lensing estimates until multipole lmax_qlm.; 4096\n",
    "nside = 1024 # Healpix resolution of the data and sims.; 2048\n",
    "\n",
    "\n",
    "nlev_t = 2.16 # Filtering noise level in temperature (here also used for the noise simulations generation).\n",
    "nlev_p = 2.16 # Filtering noise level in polarization (here also used for the noise simulations generation).\n",
    "nsims = 300  # Total number of simulations to consider.\n",
    "\n",
    "transf = hp.gauss_beam(4. / 60. / 180. * np.pi, lmax=lmax_ivf) * hp.pixwin(nside)[:lmax_ivf + 1]\n",
    "#: CMB transfer function. Here a 5' Gaussian beam and healpix pixel window function."
   ]
  },
  {
   "cell_type": "code",
   "execution_count": 15,
   "id": "e6be7f28-2762-4a04-87b2-d35e7f9fc436",
   "metadata": {
    "execution": {
     "iopub.execute_input": "2023-11-16T08:53:00.095281Z",
     "iopub.status.busy": "2023-11-16T08:53:00.094870Z",
     "iopub.status.idle": "2023-11-16T08:53:00.205807Z",
     "shell.execute_reply": "2023-11-16T08:53:00.205231Z",
     "shell.execute_reply.started": "2023-11-16T08:53:00.095260Z"
    },
    "tags": []
   },
   "outputs": [],
   "source": [
    "cl_unl = utils.camb_clfile(os.path.join(cls_path, 'FFP10_wdipole_lenspotentialCls.dat'))\n",
    "cl_len = utils.camb_clfile(os.path.join(cls_path, 'FFP10_wdipole_lensedCls.dat'))\n",
    "#: Fiducial unlensed and lensed power spectra used for the analysis.\n",
    "\n",
    "cl_weight = utils.camb_clfile(os.path.join(cls_path, 'FFP10_wdipole_lensedCls.dat'))\n",
    "cl_weight['bb'] *= 0.\n",
    "#: CMB spectra entering the QE weights (the spectra multplying the inverse-variance filtered maps in the QE legs) # to get the wiener filtered maps?"
   ]
  },
  {
   "cell_type": "code",
   "execution_count": 34,
   "id": "199966cd-4aee-442a-8edc-2782e25da169",
   "metadata": {
    "execution": {
     "iopub.execute_input": "2023-11-16T09:00:14.821423Z",
     "iopub.status.busy": "2023-11-16T09:00:14.820922Z",
     "iopub.status.idle": "2023-11-16T09:00:14.825040Z",
     "shell.execute_reply": "2023-11-16T09:00:14.824338Z",
     "shell.execute_reply.started": "2023-11-16T09:00:14.821403Z"
    },
    "tags": []
   },
   "outputs": [],
   "source": [
    "sims = cmb_noise(cmb_len(add_foreground='forse3'), transf, nlev_t, nlev_p, nside)"
   ]
  },
  {
   "cell_type": "code",
   "execution_count": 35,
   "id": "b546c3a9-87ae-44f5-b33c-4283e330c067",
   "metadata": {
    "execution": {
     "iopub.execute_input": "2023-11-16T09:00:23.340552Z",
     "iopub.status.busy": "2023-11-16T09:00:23.340065Z",
     "iopub.status.idle": "2023-11-16T09:00:23.354342Z",
     "shell.execute_reply": "2023-11-16T09:00:23.353514Z",
     "shell.execute_reply.started": "2023-11-16T09:00:23.340531Z"
    },
    "tags": []
   },
   "outputs": [],
   "source": [
    "ftl = utils.cli(cl_len['tt'][:lmax_ivf + 1] + (nlev_t / 60. / 180. * np.pi / transf) ** 2)\n",
    "fel = utils.cli(cl_len['ee'][:lmax_ivf + 1] + (nlev_p / 60. / 180. * np.pi / transf) ** 2)\n",
    "fbl = utils.cli(cl_len['bb'][:lmax_ivf + 1] + (nlev_p / 60. / 180. * np.pi / transf) ** 2)\n",
    "ftl[:lmin_ivf] *= 0.\n",
    "fel[:lmin_ivf] *= 0.\n",
    "fbl[:lmin_ivf] *= 0.\n",
    "#: Inverse CMB co-variance in T, E and B (neglecting TE coupling).\n",
    "\n",
    "ivfs = filt_simple.library_fullsky_sepTP(os.path.join(TEMP, 'ivfs'), sims, nside, transf, cl_len, ftl, fel, fbl, cache=True)\n",
    "#: Inverse-variance filtering instance. Here a trivial isotropic inverse variance weighting."
   ]
  },
  {
   "cell_type": "code",
   "execution_count": 36,
   "id": "4d08a4ca-1012-45c0-ab07-5fd282c1b637",
   "metadata": {
    "execution": {
     "iopub.execute_input": "2023-11-16T09:00:46.124583Z",
     "iopub.status.busy": "2023-11-16T09:00:46.124059Z",
     "iopub.status.idle": "2023-11-16T09:00:46.497252Z",
     "shell.execute_reply": "2023-11-16T09:00:46.496514Z",
     "shell.execute_reply.started": "2023-11-16T09:00:46.124565Z"
    },
    "tags": []
   },
   "outputs": [
    {
     "name": "stdout",
     "output_type": "stream",
     "text": [
      "Caching sky fractions...\n"
     ]
    }
   ],
   "source": [
    "#---- QE libraries instances. For the MCN0, RDN0, MC-correction etc calculation, we need in general three of them,\n",
    "# which we called qlms_dd, qlms_ds, qlms_ss.\n",
    "# qlms_dd is the QE library which builds a lensing estimate with the same simulation on both legs\n",
    "# qlms_ds is the QE library which builds a lensing estimate with a simulation on one leg and the data on the second.\n",
    "# qlms_ss is the QE library which builds a lensing estimate with a simulation on one leg and another on the second.\n",
    "\n",
    "# Shuffling dictionary used for qlms_ss. This remaps idx -> idx + 1 by blocks of 60 up to 300:\n",
    "ss_dict = { k : v for k, v in zip( np.concatenate( [ range(i*60, (i+1)*60) for i in range(0,5) ] ),\n",
    "                    np.concatenate( [ np.roll( range(i*60, (i+1)*60), -1 ) for i in range(0,5) ] ) ) }\n",
    "# Shuffling dictionary used for qlms_ds. This remap all sim. indices to the data maps:\n",
    "ds_dict = { k : -1 for k in range(300)}\n",
    "\n",
    "ivfs_d = filt_util.library_shuffle(ivfs, ds_dict)\n",
    "#: This is a filtering instance always returning the data map.\n",
    "ivfs_s = filt_util.library_shuffle(ivfs, ss_dict)\n",
    "#: This is a filtering instance shuffling simulation indices according to 'ss_dict'.\n",
    "\n",
    "\n",
    "qlms_dd = qest.library_sepTP(os.path.join(TEMP, 'qlms_dd'), ivfs, ivfs,   cl_len['te'], nside, lmax_qlm=lmax_qlm)\n",
    "# qlms_ds = qest.library_sepTP(os.path.join(TEMP, 'qlms_ds'), ivfs, ivfs_d, cl_len['te'], nside, lmax_qlm=lmax_qlm)\n",
    "# qlms_ss = qest.library_sepTP(os.path.join(TEMP, 'qlms_ss'), ivfs, ivfs_s, cl_len['te'], nside, lmax_qlm=lmax_qlm)"
   ]
  },
  {
   "cell_type": "markdown",
   "id": "4d63a0b2-f6d8-4e2b-86a8-b175672a22f8",
   "metadata": {
    "jp-MarkdownHeadingCollapsed": true,
    "tags": []
   },
   "source": [
    "## QE"
   ]
  },
  {
   "cell_type": "code",
   "execution_count": 52,
   "id": "ea023112-8c23-4c98-821e-c9971ffb3d5e",
   "metadata": {
    "execution": {
     "iopub.execute_input": "2023-11-15T08:49:50.063124Z",
     "iopub.status.busy": "2023-11-15T08:49:50.062842Z",
     "iopub.status.idle": "2023-11-15T08:49:50.960725Z",
     "shell.execute_reply": "2023-11-15T08:49:50.960164Z",
     "shell.execute_reply.started": "2023-11-15T08:49:50.063105Z"
    },
    "tags": []
   },
   "outputs": [
    {
     "name": "stdout",
     "output_type": "stream",
     "text": [
      "Caching sky fractions...\n"
     ]
    }
   ],
   "source": [
    "#---- QE spectra libraries instances:\n",
    "# This takes power spectra of the QE maps from the QE libraries, after subtracting a mean-field.\n",
    "# Only qcls_dd needs a mean-field subtraction.\n",
    "\n",
    "# mc_sims_bias = np.arange(60) #: The mean-field will be calculated from these simulations.\n",
    "# mc_sims_var  = np.arange(60, 300) #: The covariance matrix will be calculated from these simulations\n",
    "\n",
    "mc_sims_mf_dd = np.array([])\n",
    "mc_sims_mf_ds = np.array([])\n",
    "mc_sims_mf_ss = np.array([]) #:By construction, only qcls_dd needs a mean-field subtraction.\n",
    "\n",
    "qcls_dd = qecl.library(os.path.join(TEMP, 'qcls_dd'), qlms_dd, qlms_dd, mc_sims_mf_dd)\n",
    "# qcls_ds = qecl.library(os.path.join(TEMP, 'qcls_ds'), qlms_ds, qlms_ds, mc_sims_mf_ds)\n",
    "# qcls_ss = qecl.library(os.path.join(TEMP, 'qcls_ss'), qlms_ss, qlms_ss, mc_sims_mf_ss)\n"
   ]
  },
  {
   "cell_type": "code",
   "execution_count": 87,
   "id": "43fda01c-f61c-454d-a16d-9cdd0409a1bb",
   "metadata": {
    "execution": {
     "iopub.execute_input": "2023-11-15T12:26:53.628052Z",
     "iopub.status.busy": "2023-11-15T12:26:53.627583Z",
     "iopub.status.idle": "2023-11-15T12:26:53.866318Z",
     "shell.execute_reply": "2023-11-15T12:26:53.865847Z",
     "shell.execute_reply.started": "2023-11-15T12:26:53.628029Z"
    },
    "tags": []
   },
   "outputs": [
    {
     "data": {
      "text/plain": [
       "[<matplotlib.lines.Line2D at 0x7f0f9288f610>]"
      ]
     },
     "execution_count": 87,
     "metadata": {},
     "output_type": "execute_result"
    },
    {
     "data": {
      "image/png": "[encoded data removed]",
      "text/plain": [
       "<Figure size 640x480 with 1 Axes>"
      ]
     },
     "metadata": {},
     "output_type": "display_data"
    }
   ],
   "source": [
    "plt.loglog(qcls_dd.get_sim_qcl('ptt', 0))"
   ]
  },
  {
   "cell_type": "markdown",
   "id": "ed1e9490-7c29-45b7-a570-2efbdf787c2f",
   "metadata": {},
   "source": [
    "## bias"
   ]
  },
  {
   "cell_type": "code",
   "execution_count": 37,
   "id": "8cb82cb1-8f64-4744-a7b9-bdde47775106",
   "metadata": {
    "execution": {
     "iopub.execute_input": "2023-11-16T09:01:06.192234Z",
     "iopub.status.busy": "2023-11-16T09:01:06.191921Z",
     "iopub.status.idle": "2023-11-16T09:01:06.195251Z",
     "shell.execute_reply": "2023-11-16T09:01:06.194593Z",
     "shell.execute_reply.started": "2023-11-16T09:01:06.192214Z"
    },
    "tags": []
   },
   "outputs": [],
   "source": [
    "from plancklens import nhl\n",
    "from plancklens.n1 import n1"
   ]
  },
  {
   "cell_type": "code",
   "execution_count": 38,
   "id": "58c659a9-6380-405c-b4d1-a550dd516cb2",
   "metadata": {
    "execution": {
     "iopub.execute_input": "2023-11-16T09:01:07.556657Z",
     "iopub.status.busy": "2023-11-16T09:01:07.556428Z",
     "iopub.status.idle": "2023-11-16T09:01:07.656368Z",
     "shell.execute_reply": "2023-11-16T09:01:07.655711Z",
     "shell.execute_reply.started": "2023-11-16T09:01:07.556638Z"
    },
    "tags": []
   },
   "outputs": [],
   "source": [
    "#---- semi-analytical Gaussian lensing bias library:\n",
    "nhl_dd = nhl.nhl_lib_simple(os.path.join(TEMP, 'nhl_dd'), ivfs, cl_weight, lmax_qlm)\n",
    "\n",
    "#---- N1 lensing bias library:\n",
    "libdir_n1_dd = os.path.join(TEMP, 'n1_test')\n",
    "n1_dd = n1.library_n1(libdir_n1_dd,cl_len['tt'],cl_len['te'],cl_len['ee'])"
   ]
  },
  {
   "cell_type": "code",
   "execution_count": 41,
   "id": "7d4dea0b-4542-4d7e-9b48-cd2c3b789b6f",
   "metadata": {
    "execution": {
     "iopub.execute_input": "2023-11-16T09:01:58.142572Z",
     "iopub.status.busy": "2023-11-16T09:01:58.142163Z",
     "iopub.status.idle": "2023-11-16T09:01:58.167306Z",
     "shell.execute_reply": "2023-11-16T09:01:58.166781Z",
     "shell.execute_reply.started": "2023-11-16T09:01:58.142548Z"
    },
    "tags": []
   },
   "outputs": [],
   "source": [
    "#---- QE response calculation library:\n",
    "qresp_dd = qresp.resp_lib_simple(os.path.join(TEMP, 'qresp'), lmax_ivf, cl_weight, cl_len,\n",
    "                                 {'t': ivfs.get_ftl(), 'e':ivfs.get_fel(), 'b':ivfs.get_fbl()}, lmax_qlm)"
   ]
  },
  {
   "cell_type": "code",
   "execution_count": 43,
   "id": "f8b549f4-6c94-4479-9f6d-e90d1c86282e",
   "metadata": {
    "execution": {
     "iopub.execute_input": "2023-11-16T09:04:01.100443Z",
     "iopub.status.busy": "2023-11-16T09:04:01.100069Z",
     "iopub.status.idle": "2023-11-16T09:04:02.491387Z",
     "shell.execute_reply": "2023-11-16T09:04:02.490697Z",
     "shell.execute_reply.started": "2023-11-16T09:04:01.100423Z"
    },
    "tags": []
   },
   "outputs": [
    {
     "data": {
      "image/png": "[encoded data removed]",
      "text/plain": [
       "<Figure size 640x480 with 1 Axes>"
      ]
     },
     "metadata": {},
     "output_type": "display_data"
    },
    {
     "data": {
      "image/png": "[encoded data removed]",
      "text/plain": [
       "<Figure size 640x480 with 1 Axes>"
      ]
     },
     "metadata": {},
     "output_type": "display_data"
    }
   ],
   "source": [
    "for qe_key in ['ptt','p_p']:\n",
    "#     # This loads the estimate calculated in the previous cell:\n",
    "    qlm = qlms_dd.get_sim_qlm(qe_key, 0)\n",
    "\n",
    "    # Lensing response according to the fiducial cosmology:\n",
    "    qresp_dat = qresp_dd.get_response(qe_key, 'p')\n",
    " \n",
    "    # Estimator normalization is the inverse response:\n",
    "    qnorm = utils.cli(qresp_dat)\n",
    "    \n",
    "#     # Semi-analytical realization-dependent Gaussian noise bias (of the unnormalized estimator):\n",
    "    nhl = nhl_dd.get_sim_nhl(0, qe_key, qe_key)\n",
    "\n",
    "    # and we plot the normalized resulting spectra:\n",
    "    w = lambda ell : ell ** 2 * (ell + 1.) ** 2 * 0.5 / np.pi * 1e7\n",
    "    ell = np.arange(2 if qe_key[0] == 'x' else 1, 2048)\n",
    "    \n",
    "    plt.figure()\n",
    "    plt.title('lensing gradient (TT)' if qe_key[-1] == 't' else 'lensing gradient (Pol.)')\n",
    "    label=r'$C_L^{\\hat \\phi \\hat \\phi}$' if qe_key[0] == 'p' else r'$C_L^{\\hat \\omega \\hat \\omega}$'\n",
    "    plt.loglog(ell, hp.alm2cl(qlm)[ell] * qnorm[ell] ** 2 / qlms_dd.fsky12 * w(ell), label=label)\n",
    "    plt.loglog(ell, nhl[ell] * qnorm[ell] ** 2 * w(ell), '--', label=r'$\\hat N_L^{(0)}$ (semi-analytical)')\n",
    "    plt.loglog(ell, cl_unl['pp'][ell] *  w(ell), c='k', label=r'$C_L^{\\phi\\phi, \\rm fid}$')\n",
    "    if  qe_key[0] == 'p':\n",
    "        plt.loglog(ell, (cl_unl['pp'][ell] + nhl[ell] * qnorm[ell] ** 2) *  w(ell), label=r'$C_L^{\\phi\\phi, \\rm fid} + \\hat N_L^{(0)}$ ')\n",
    "    plt.xlabel('$L$', fontsize=12)\n",
    "    plt.ylabel('$L^2 (L + 1)^2 C_L^{\\phi\\phi}$  [$x10^7$]', fontsize=12)\n",
    "    plt.legend(fontsize=12, loc='lower left')"
   ]
  },
  {
   "cell_type": "code",
   "execution_count": null,
   "id": "593c17ce-a3f3-4e0c-8207-81cc1930cfa3",
   "metadata": {},
   "outputs": [],
   "source": []
  }
 ],
 "metadata": {
  "kernelspec": {
   "display_name": "myTF_GPU_per",
   "language": "python",
   "name": "mytf_gpu_per"
  },
  "language_info": {
   "codemirror_mode": {
    "name": "ipython",
    "version": 3
   },
   "file_extension": ".py",
   "mimetype": "text/x-python",
   "name": "python",
   "nbconvert_exporter": "python",
   "pygments_lexer": "ipython3",
   "version": "3.9.15"
  },
  "toc-autonumbering": true
 },
 "nbformat": 4,
 "nbformat_minor": 5
}
