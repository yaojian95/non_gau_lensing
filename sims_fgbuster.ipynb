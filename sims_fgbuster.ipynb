{
 "cells": [
  {
   "cell_type": "code",
   "execution_count": 1,
   "id": "12a5ed14-ba10-49f5-ad88-9a59c72592d5",
   "metadata": {
    "execution": {
     "iopub.execute_input": "2023-11-28T03:00:50.022426Z",
     "iopub.status.busy": "2023-11-28T03:00:50.022110Z",
     "iopub.status.idle": "2023-11-28T03:00:50.704189Z",
     "shell.execute_reply": "2023-11-28T03:00:50.703512Z",
     "shell.execute_reply.started": "2023-11-28T03:00:50.022405Z"
    },
    "tags": []
   },
   "outputs": [],
   "source": [
    "import os\n",
    "\n",
    "os.environ[\n",
    "    \"OMP_NUM_THREADS\"\n",
    "] = \"128\"  # for jupyter.nersc.gov otherwise the notebook only uses 2 cores\n",
    "\n",
    "import matplotlib as mpl\n",
    "mpl.rc('image', cmap='coolwarm')\n",
    "\n",
    "import matplotlib.pyplot as plt\n",
    "%matplotlib inline"
   ]
  },
  {
   "cell_type": "code",
   "execution_count": 2,
   "id": "db323982-1d80-4e66-a96a-73fbe7d12ee5",
   "metadata": {
    "execution": {
     "iopub.execute_input": "2023-11-28T03:00:50.705565Z",
     "iopub.status.busy": "2023-11-28T03:00:50.705336Z",
     "iopub.status.idle": "2023-11-28T03:00:52.823737Z",
     "shell.execute_reply": "2023-11-28T03:00:52.823019Z",
     "shell.execute_reply.started": "2023-11-28T03:00:50.705543Z"
    },
    "tags": []
   },
   "outputs": [],
   "source": [
    "import numpy as np\n",
    "import healpy as hp"
   ]
  },
  {
   "cell_type": "code",
   "execution_count": 3,
   "id": "28fc14d1-0e75-4252-b83c-4db45aa2c706",
   "metadata": {
    "execution": {
     "iopub.execute_input": "2023-11-28T03:00:52.824776Z",
     "iopub.status.busy": "2023-11-28T03:00:52.824601Z",
     "iopub.status.idle": "2023-11-28T03:00:55.761938Z",
     "shell.execute_reply": "2023-11-28T03:00:55.761233Z",
     "shell.execute_reply.started": "2023-11-28T03:00:52.824755Z"
    },
    "tags": []
   },
   "outputs": [],
   "source": [
    "from fgbuster.observation_helpers import get_noise_realization"
   ]
  },
  {
   "cell_type": "code",
   "execution_count": 4,
   "id": "c52acb2d-0a08-443a-affd-6b26f136b6c7",
   "metadata": {
    "execution": {
     "iopub.execute_input": "2023-11-28T03:00:55.763625Z",
     "iopub.status.busy": "2023-11-28T03:00:55.763385Z",
     "iopub.status.idle": "2023-11-28T03:00:55.766571Z",
     "shell.execute_reply": "2023-11-28T03:00:55.765988Z",
     "shell.execute_reply.started": "2023-11-28T03:00:55.763607Z"
    },
    "tags": []
   },
   "outputs": [],
   "source": [
    "from fgbuster import (CMB, Dust, Synchrotron, AnalyticComponent,\n",
    "                      basic_comp_sep, \n",
    "                      get_observation, get_instrument)"
   ]
  },
  {
   "cell_type": "code",
   "execution_count": 5,
   "id": "0187207a-6215-4ee1-9571-d5f2a4ed1816",
   "metadata": {
    "execution": {
     "iopub.execute_input": "2023-11-28T03:00:55.767360Z",
     "iopub.status.busy": "2023-11-28T03:00:55.767202Z",
     "iopub.status.idle": "2023-11-28T03:00:55.770331Z",
     "shell.execute_reply": "2023-11-28T03:00:55.769815Z",
     "shell.execute_reply.started": "2023-11-28T03:00:55.767345Z"
    },
    "tags": []
   },
   "outputs": [],
   "source": [
    "from fgbuster.separation_recipes import harmonic_ilc as hilc\n"
   ]
  },
  {
   "cell_type": "code",
   "execution_count": 6,
   "id": "616507e5-ca75-4caf-af2b-89dfead2a097",
   "metadata": {
    "execution": {
     "iopub.execute_input": "2023-11-28T03:00:55.771187Z",
     "iopub.status.busy": "2023-11-28T03:00:55.770986Z",
     "iopub.status.idle": "2023-11-28T03:00:55.818158Z",
     "shell.execute_reply": "2023-11-28T03:00:55.817640Z",
     "shell.execute_reply.started": "2023-11-28T03:00:55.771173Z"
    },
    "tags": []
   },
   "outputs": [],
   "source": [
    "from plancklens.utils import camb_clfile\n",
    "from lenspyx import synfast"
   ]
  },
  {
   "cell_type": "code",
   "execution_count": 7,
   "id": "ea697e3b-4253-4e0b-8046-80c37545fa01",
   "metadata": {
    "execution": {
     "iopub.execute_input": "2023-11-28T03:00:55.819005Z",
     "iopub.status.busy": "2023-11-28T03:00:55.818837Z",
     "iopub.status.idle": "2023-11-28T03:00:55.821482Z",
     "shell.execute_reply": "2023-11-28T03:00:55.820990Z",
     "shell.execute_reply.started": "2023-11-28T03:00:55.818985Z"
    },
    "tags": []
   },
   "outputs": [],
   "source": [
    "import pysm3\n",
    "import pysm3.units as u"
   ]
  },
  {
   "cell_type": "code",
   "execution_count": 8,
   "id": "98599ca8-3e97-4fcc-88a1-d7f7e8c694c3",
   "metadata": {
    "execution": {
     "iopub.execute_input": "2023-11-28T03:00:55.822518Z",
     "iopub.status.busy": "2023-11-28T03:00:55.822069Z",
     "iopub.status.idle": "2023-11-28T03:00:55.826087Z",
     "shell.execute_reply": "2023-11-28T03:00:55.825560Z",
     "shell.execute_reply.started": "2023-11-28T03:00:55.822501Z"
    },
    "tags": []
   },
   "outputs": [],
   "source": [
    "from common import convert_units"
   ]
  },
  {
   "cell_type": "code",
   "execution_count": 248,
   "id": "20e0e0b1-4ddf-4fd5-8b73-ed531689d88f",
   "metadata": {
    "execution": {
     "iopub.execute_input": "2023-11-22T02:59:51.807211Z",
     "iopub.status.busy": "2023-11-22T02:59:51.806948Z",
     "iopub.status.idle": "2023-11-22T02:59:52.175541Z",
     "shell.execute_reply": "2023-11-22T02:59:52.174641Z",
     "shell.execute_reply.started": "2023-11-22T02:59:51.807193Z"
    },
    "tags": []
   },
   "outputs": [],
   "source": [
    "noise_test = get_noise_realization(256, instrument)"
   ]
  },
  {
   "cell_type": "code",
   "execution_count": 251,
   "id": "ca9559e5-f703-4ca4-9ff8-732c2c22084d",
   "metadata": {
    "execution": {
     "iopub.execute_input": "2023-11-22T03:01:22.816696Z",
     "iopub.status.busy": "2023-11-22T03:01:22.816435Z",
     "iopub.status.idle": "2023-11-22T03:01:22.986388Z",
     "shell.execute_reply": "2023-11-22T03:01:22.985525Z",
     "shell.execute_reply.started": "2023-11-22T03:01:22.816673Z"
    },
    "tags": []
   },
   "outputs": [],
   "source": [
    "nl = hp.anafast(noise_test[0])"
   ]
  },
  {
   "cell_type": "code",
   "execution_count": 254,
   "id": "317ead5c-edcb-4e65-af76-989c60a8e22d",
   "metadata": {
    "execution": {
     "iopub.execute_input": "2023-11-22T03:01:46.229113Z",
     "iopub.status.busy": "2023-11-22T03:01:46.228862Z",
     "iopub.status.idle": "2023-11-22T03:01:46.240784Z",
     "shell.execute_reply": "2023-11-22T03:01:46.239991Z",
     "shell.execute_reply.started": "2023-11-22T03:01:46.229095Z"
    },
    "tags": []
   },
   "outputs": [
    {
     "data": {
      "text/plain": [
       "26.76715185176525"
      ]
     },
     "execution_count": 254,
     "metadata": {},
     "output_type": "execute_result"
    }
   ],
   "source": [
    "np.var(noise_test[0][0])"
   ]
  },
  {
   "cell_type": "code",
   "execution_count": 256,
   "id": "e2f2bdaf-6553-4020-ae81-b0b5f60c5b69",
   "metadata": {
    "execution": {
     "iopub.execute_input": "2023-11-22T03:03:31.655195Z",
     "iopub.status.busy": "2023-11-22T03:03:31.654904Z",
     "iopub.status.idle": "2023-11-22T03:03:31.658670Z",
     "shell.execute_reply": "2023-11-22T03:03:31.657959Z",
     "shell.execute_reply.started": "2023-11-22T03:03:31.655173Z"
    },
    "tags": []
   },
   "outputs": [],
   "source": [
    "def nlev2sig(nlev, nside):\n",
    "    \n",
    "    return np.sqrt((np.pi*nlev/10800)**2*(12*nside**2)/4/np.pi)"
   ]
  },
  {
   "cell_type": "markdown",
   "id": "98d8efc1-48f2-4bc6-a909-811af995556e",
   "metadata": {},
   "source": [
    "# simulations"
   ]
  },
  {
   "cell_type": "code",
   "execution_count": 10,
   "id": "d3515f24-d072-4f07-8b93-9b636ce67094",
   "metadata": {
    "execution": {
     "iopub.execute_input": "2023-11-28T03:05:30.975964Z",
     "iopub.status.busy": "2023-11-28T03:05:30.975646Z",
     "iopub.status.idle": "2023-11-28T03:05:30.978848Z",
     "shell.execute_reply": "2023-11-28T03:05:30.978360Z",
     "shell.execute_reply.started": "2023-11-28T03:05:30.975943Z"
    },
    "tags": []
   },
   "outputs": [],
   "source": [
    "cls_path = '/global/homes/j/jianyao/non_gau_lensing/theory/cls/'"
   ]
  },
  {
   "cell_type": "code",
   "execution_count": 250,
   "id": "e3e3a65d-73f6-402b-b493-0d7627017c10",
   "metadata": {
    "execution": {
     "iopub.execute_input": "2023-11-22T03:00:05.210024Z",
     "iopub.status.busy": "2023-11-22T03:00:05.209688Z",
     "iopub.status.idle": "2023-11-22T03:00:05.227676Z",
     "shell.execute_reply": "2023-11-22T03:00:05.226944Z",
     "shell.execute_reply.started": "2023-11-22T03:00:05.209997Z"
    },
    "tags": []
   },
   "outputs": [
    {
     "data": {
      "text/html": [
       "<div>\n",
       "<style scoped>\n",
       "    .dataframe tbody tr th:only-of-type {\n",
       "        vertical-align: middle;\n",
       "    }\n",
       "\n",
       "    .dataframe tbody tr th {\n",
       "        vertical-align: top;\n",
       "    }\n",
       "\n",
       "    .dataframe thead th {\n",
       "        text-align: right;\n",
       "    }\n",
       "</style>\n",
       "<table border=\"1\" class=\"dataframe\">\n",
       "  <thead>\n",
       "    <tr style=\"text-align: right;\">\n",
       "      <th></th>\n",
       "      <th>frequency</th>\n",
       "      <th>depth_p</th>\n",
       "      <th>depth_i</th>\n",
       "      <th>fwhm</th>\n",
       "      <th>f_sky</th>\n",
       "      <th>status</th>\n",
       "      <th>reference</th>\n",
       "      <th>type</th>\n",
       "      <th>note</th>\n",
       "      <th>experiment</th>\n",
       "    </tr>\n",
       "  </thead>\n",
       "  <tbody>\n",
       "    <tr>\n",
       "      <th>0</th>\n",
       "      <td>27.0</td>\n",
       "      <td>100.4</td>\n",
       "      <td>71.0</td>\n",
       "      <td>7.4</td>\n",
       "      <td>0.4</td>\n",
       "      <td>forecast</td>\n",
       "      <td>Journal of Cosmology and Astroparticle Physics...</td>\n",
       "      <td>ground</td>\n",
       "      <td>depth_p is simply depth_i * sqrt(2)</td>\n",
       "      <td>SO_LAT</td>\n",
       "    </tr>\n",
       "    <tr>\n",
       "      <th>1</th>\n",
       "      <td>39.0</td>\n",
       "      <td>50.9</td>\n",
       "      <td>36.0</td>\n",
       "      <td>5.1</td>\n",
       "      <td>0.4</td>\n",
       "      <td>forecast</td>\n",
       "      <td>Journal of Cosmology and Astroparticle Physics...</td>\n",
       "      <td>ground</td>\n",
       "      <td>depth_p is simply depth_i * sqrt(2)</td>\n",
       "      <td>SO_LAT</td>\n",
       "    </tr>\n",
       "    <tr>\n",
       "      <th>2</th>\n",
       "      <td>93.0</td>\n",
       "      <td>11.3</td>\n",
       "      <td>8.0</td>\n",
       "      <td>2.2</td>\n",
       "      <td>0.4</td>\n",
       "      <td>forecast</td>\n",
       "      <td>Journal of Cosmology and Astroparticle Physics...</td>\n",
       "      <td>ground</td>\n",
       "      <td>depth_p is simply depth_i * sqrt(2)</td>\n",
       "      <td>SO_LAT</td>\n",
       "    </tr>\n",
       "    <tr>\n",
       "      <th>3</th>\n",
       "      <td>145.0</td>\n",
       "      <td>14.1</td>\n",
       "      <td>10.0</td>\n",
       "      <td>1.4</td>\n",
       "      <td>0.4</td>\n",
       "      <td>forecast</td>\n",
       "      <td>Journal of Cosmology and Astroparticle Physics...</td>\n",
       "      <td>ground</td>\n",
       "      <td>depth_p is simply depth_i * sqrt(2)</td>\n",
       "      <td>SO_LAT</td>\n",
       "    </tr>\n",
       "    <tr>\n",
       "      <th>4</th>\n",
       "      <td>225.0</td>\n",
       "      <td>31.1</td>\n",
       "      <td>22.0</td>\n",
       "      <td>1.0</td>\n",
       "      <td>0.4</td>\n",
       "      <td>forecast</td>\n",
       "      <td>Journal of Cosmology and Astroparticle Physics...</td>\n",
       "      <td>ground</td>\n",
       "      <td>depth_p is simply depth_i * sqrt(2)</td>\n",
       "      <td>SO_LAT</td>\n",
       "    </tr>\n",
       "    <tr>\n",
       "      <th>5</th>\n",
       "      <td>280.0</td>\n",
       "      <td>76.4</td>\n",
       "      <td>54.0</td>\n",
       "      <td>0.9</td>\n",
       "      <td>0.4</td>\n",
       "      <td>forecast</td>\n",
       "      <td>Journal of Cosmology and Astroparticle Physics...</td>\n",
       "      <td>ground</td>\n",
       "      <td>depth_p is simply depth_i * sqrt(2)</td>\n",
       "      <td>SO_LAT</td>\n",
       "    </tr>\n",
       "  </tbody>\n",
       "</table>\n",
       "</div>"
      ],
      "text/plain": [
       "   frequency  depth_p  depth_i  fwhm  f_sky    status  \\\n",
       "0       27.0    100.4     71.0   7.4    0.4  forecast   \n",
       "1       39.0     50.9     36.0   5.1    0.4  forecast   \n",
       "2       93.0     11.3      8.0   2.2    0.4  forecast   \n",
       "3      145.0     14.1     10.0   1.4    0.4  forecast   \n",
       "4      225.0     31.1     22.0   1.0    0.4  forecast   \n",
       "5      280.0     76.4     54.0   0.9    0.4  forecast   \n",
       "\n",
       "                                           reference    type  \\\n",
       "0  Journal of Cosmology and Astroparticle Physics...  ground   \n",
       "1  Journal of Cosmology and Astroparticle Physics...  ground   \n",
       "2  Journal of Cosmology and Astroparticle Physics...  ground   \n",
       "3  Journal of Cosmology and Astroparticle Physics...  ground   \n",
       "4  Journal of Cosmology and Astroparticle Physics...  ground   \n",
       "5  Journal of Cosmology and Astroparticle Physics...  ground   \n",
       "\n",
       "                                  note experiment  \n",
       "0  depth_p is simply depth_i * sqrt(2)     SO_LAT  \n",
       "1  depth_p is simply depth_i * sqrt(2)     SO_LAT  \n",
       "2  depth_p is simply depth_i * sqrt(2)     SO_LAT  \n",
       "3  depth_p is simply depth_i * sqrt(2)     SO_LAT  \n",
       "4  depth_p is simply depth_i * sqrt(2)     SO_LAT  \n",
       "5  depth_p is simply depth_i * sqrt(2)     SO_LAT  "
      ]
     },
     "execution_count": 250,
     "metadata": {},
     "output_type": "execute_result"
    }
   ],
   "source": [
    "instrument"
   ]
  },
  {
   "cell_type": "code",
   "execution_count": null,
   "id": "c3dd8834-481e-4e32-abb2-9ee182e56e40",
   "metadata": {},
   "outputs": [],
   "source": []
  },
  {
   "cell_type": "code",
   "execution_count": 15,
   "id": "853b8cb8-14ce-4355-a669-28aa18422146",
   "metadata": {
    "execution": {
     "iopub.execute_input": "2023-11-28T03:12:33.961988Z",
     "iopub.status.busy": "2023-11-28T03:12:33.961665Z",
     "iopub.status.idle": "2023-11-28T03:12:33.976512Z",
     "shell.execute_reply": "2023-11-28T03:12:33.975987Z",
     "shell.execute_reply.started": "2023-11-28T03:12:33.961964Z"
    },
    "tags": []
   },
   "outputs": [],
   "source": [
    "class simulations:\n",
    "    \n",
    "    def __init__(self, nside, instrument):\n",
    "        \n",
    "        self.nside = nside\n",
    "        self.instrument = instrument\n",
    "        self.fres = instrument['frequency']\n",
    "        self.fwhms = instrument['fwhm']\n",
    "\n",
    "    def get_all(self, add_foreground = 'd0', noise = 'alms'):\n",
    "\n",
    "        '''\n",
    "        return one realization of (lensed CMB + foreground) with the beam applied + noise, \n",
    "        for each frequency defined in the instrument.\n",
    "        \n",
    "        noise: get noise alms or maps. \n",
    "        '''\n",
    "\n",
    "        cl_unl = camb_clfile(os.path.join(cls_path, 'FFP10_wdipole_lenspotentialCls.dat'))\n",
    "        geom_info = ('healpix', {'nside':nside}) # Geometry parametrized as above, this is the default\n",
    "\n",
    "        lmax_unl = 2*nside\n",
    "        cmb_temp = synfast(cl_unl, lmax=lmax_unl, verbose=0, geometry=geom_info, alm = False)\n",
    "        self.cmb_len = np.row_stack((cmb_temp['T'], cmb_temp['QU'])) # (3, 12*nside**2)\n",
    "\n",
    "        Nf = self.fres.size\n",
    "        cmb_maps = np.repeat(self.cmb_len[np.newaxis, :, :], Nf, axis = 0)\n",
    "             \n",
    "        if add_foreground.startswith('d'):\n",
    "            # for pysm3 pre-defined models\n",
    "            foreground = get_observation(instrument, add_foreground, nside=nside, noise=False, unit='uK_CMB')\n",
    "            \n",
    "        elif add_foreground.startswith('forse'):\n",
    "            \n",
    "            pysm_model = add_foreground.split('_')[1]\n",
    "            \n",
    "            foreground = self.rescale_forse(self.fres, pysm_model = pysm_model)\n",
    "            \n",
    "        noise_maps = get_noise_realization(self.nside, instrument, unit='uK_CMB')\n",
    "        noise_alms = []\n",
    "        \n",
    "        map_all = cmb_maps + foreground\n",
    "        for i in range(Nf):\n",
    "            # map_all[i] = pysm3.apply_smoothing_and_coord_transform(map_all[i], fwhm=self.fwhms[i]*u.arcmin) + self.noise_maps[i]\n",
    "            map_all[i] = hp.smoothing(map_all[i], fwhm = self.fwhms[i]/180/60*np.pi) + noise_maps[i]\n",
    "            foreground[i] = hp.smoothing(foreground[i], fwhm = self.fwhms[i]/180/60*np.pi)\n",
    "            \n",
    "            if noise == 'alms':\n",
    "                noise_alms.append(hp.map2alm(noise_maps[i]))\n",
    "                \n",
    "        if noise == 'maps':\n",
    "            self.noise_maps = noise_maps\n",
    "        elif noise == 'alms':\n",
    "            self.noise_alms = noise_alms\n",
    "                \n",
    "        self.map_all = map_all\n",
    "        self.fg = foreground\n",
    "        \n",
    "    def rescale_forse(self, fres, pysm_model = 'd0'):\n",
    "        '''\n",
    "        Possible problem: hp.udgrade is used for nside changes; better choice:pysm3.apply_smoothing_and_coord_transform\n",
    "        '''\n",
    "                \n",
    "        my_dust = self.model_forse(pysm_model)\n",
    "            \n",
    "        if fres.size > 1:\n",
    "            _observations = np.zeros((len(fres), 3, 12*self.nside**2))\n",
    "            for i in range(len(fres)):\n",
    "                _observations[i] = my_dust.get_emission(fres[i] * u.GHz)*convert_units('uK_RJ', 'uK_CMB', fres[i])\n",
    "                \n",
    "        else:\n",
    "            assert fres.size == 1\n",
    "            _observations = my_dust.get_emission(fres * u.GHz)*convert_units('uK_RJ', 'uK_CMB', fres)\n",
    "        \n",
    "        return _observations\n",
    "    \n",
    "    def apply_hilc(self, components, lbins):\n",
    "        \n",
    "        '''\n",
    "        apply fgbuster.hilc method to get clean CMB map\n",
    "        '''\n",
    "        \n",
    "        results = hilc(components, self.instrument, self.map_all, lbins) \n",
    "        ### data are deconvolved when transforming to alms, \n",
    "        ### then using harmonic_ilc_alm to do the component separation\n",
    "        weighted_alms = []\n",
    "        \n",
    "        noise_alms_ilc = np.copy(self.noise_alms)\n",
    "        \n",
    "        for i in range(self.fres.size):\n",
    "            bl = hp.gauss_beam(np.radians(self.fwhms[i]/60.0), lmax = lbins[-1], pol=True)\n",
    "            # all_alms = hp.map2alm(self.map_all[i], lmax = lbins[-1])\n",
    "            fg_alms = hp.map2alm(self.fg[i], lmax = lbins[-1])\n",
    "            \n",
    "            for j in range(3): # T, E, B\n",
    "                # hp.almxfl(all_alms[j], results.W[j, :, 0, i]/bl[:, j], inplace = True)  ### simulated total maps are deconvolved \n",
    "                hp.almxfl(fg_alms[j], results.W[j, :, 0, i]/bl[:, j], inplace = True)\n",
    "                hp.almxfl(noise_alms_ilc[i][j], results.W[j, :, 0, i]/bl[:, j], inplace = True)  ### simulated ilc noise maps are not deconvolved during the component separation\n",
    "                \n",
    "            # weighted_alms.append(all_alms)\n",
    "            weighted_alms.append(fg_alms)\n",
    "            \n",
    "        # cmb_alms = np.sum(weighted_alms, axis = 0)\n",
    "        noise_ilc_alms = np.sum(noise_alms_ilc, axis = 0) \n",
    "        \n",
    "        return results, noise_ilc_alms, fg_alms\n",
    "    \n",
    "    def model_forse(self, pysm_model):\n",
    "        \n",
    "        dust_dir = \"/pscratch/sd/j/jianyao/data_lensing/processed_dust_maps/\"\n",
    "        if pysm_model == 'd0':\n",
    "            my_dust = pysm3.ModifiedBlackBody(\n",
    "                nside = self.nside,\n",
    "                map_I = \"pysm_2/dust_t_new.fits\",\n",
    "                map_Q = dust_dir + \"forse_dust_Q_353GHz_deconvolved_lmax_4096_nside4096_uK_RJ.fits\", #\"forse_dust_Q_353GHz_3amin_nside4096_uK_RJ.fits\",\n",
    "                map_U = dust_dir + \"forse_dust_U_353GHz_deconvolved_lmax_4096_nside4096_uK_RJ.fits\",\n",
    "                unit_I = \"uK_RJ\",\n",
    "                unit_Q = \"uK_RJ\",\n",
    "                unit_U = \"uK_RJ\",\n",
    "                map_mbb_index = 1.54,\n",
    "                map_mbb_temperature = 20,\n",
    "                unit_mbb_temperature = \"K\",\n",
    "                freq_ref_I = \"545 GHz\",\n",
    "                freq_ref_P = \"353 GHz\"\n",
    "            )\n",
    "            \n",
    "        if pysm_model == 'd1':\n",
    "            my_dust = pysm3.ModifiedBlackBody(\n",
    "                nside = self.nside,\n",
    "                map_I = \"pysm_2/dust_t_new.fits\",\n",
    "                map_Q = dust_dir + \"forse_dust_Q_353GHz_deconvolved_lmax_4096_nside4096_uK_RJ.fits\",\n",
    "                map_U = dust_dir + \"forse_dust_U_353GHz_deconvolved_lmax_4096_nside4096_uK_RJ.fits\",\n",
    "                unit_I = \"uK_RJ\",\n",
    "                unit_Q = \"uK_RJ\",\n",
    "                unit_U = \"uK_RJ\",\n",
    "                map_mbb_index = \"pysm_2/dust_beta.fits\",\n",
    "                map_mbb_temperature = \"pysm_2/dust_temp.fits\",\n",
    "                unit_mbb_temperature = \"K\",\n",
    "                freq_ref_I = \"545 GHz\",\n",
    "                freq_ref_P = \"353 GHz\"\n",
    "            )\n",
    "            \n",
    "        if pysm_model == 'd2':\n",
    "            my_dust = pysm3.ModifiedBlackBody(\n",
    "                nside = self.nside,\n",
    "                map_I = \"pysm_2/dust_t_new.fits\",\n",
    "                map_Q = dust_dir + \"forse_dust_Q_353GHz_deconvolved_lmax_4096_nside4096_uK_RJ.fits\",\n",
    "                map_U = dust_dir + \"forse_dust_U_353GHz_deconvolved_lmax_4096_nside4096_uK_RJ.fits\",\n",
    "                unit_I = \"uK_RJ\",\n",
    "                unit_Q = \"uK_RJ\",\n",
    "                unit_U = \"uK_RJ\",\n",
    "                map_mbb_index = \"pysm_2/beta_mean1p59_std0p2.fits\",\n",
    "                map_mbb_temperature = \"pysm_2/dust_temp.fits\",\n",
    "                unit_mbb_temperature = \"K\",\n",
    "                freq_ref_I = \"545 GHz\",\n",
    "                freq_ref_P = \"353 GHz\"\n",
    "            )\n",
    "            \n",
    "        return my_dust"
   ]
  },
  {
   "cell_type": "code",
   "execution_count": null,
   "id": "8cb220c3-f2d8-4e61-aa97-b349303266aa",
   "metadata": {},
   "outputs": [],
   "source": []
  },
  {
   "cell_type": "code",
   "execution_count": 16,
   "id": "6274658a-9f3a-4799-97e7-636898560e64",
   "metadata": {
    "execution": {
     "iopub.execute_input": "2023-11-28T03:13:28.297513Z",
     "iopub.status.busy": "2023-11-28T03:13:28.297151Z",
     "iopub.status.idle": "2023-11-28T04:10:56.191175Z",
     "shell.execute_reply": "2023-11-28T04:10:56.189979Z",
     "shell.execute_reply.started": "2023-11-28T03:13:28.297493Z"
    },
    "tags": []
   },
   "outputs": [
    {
     "name": "stderr",
     "output_type": "stream",
     "text": [
      "WARNING:healpy:setting the output map dtype to [dtype('float64'), dtype('float64'), dtype('float64')]\n",
      "WARNING:healpy:setting the output map dtype to [dtype('float64'), dtype('float64'), dtype('float64')]\n",
      "WARNING:healpy:setting the output map dtype to [dtype('float64'), dtype('float64'), dtype('float64')]\n",
      "WARNING:healpy:setting the output map dtype to [dtype('float64'), dtype('float64'), dtype('float64')]\n",
      "WARNING:healpy:setting the output map dtype to [dtype('float64'), dtype('float64'), dtype('float64')]\n",
      "WARNING:healpy:setting the output map dtype to [dtype('float64'), dtype('float64'), dtype('float64')]\n",
      "WARNING:healpy:setting the output map dtype to [dtype('float64'), dtype('float64'), dtype('float64')]\n",
      "WARNING:healpy:setting the output map dtype to [dtype('float64'), dtype('float64'), dtype('float64')]\n",
      "WARNING:healpy:setting the output map dtype to [dtype('float64'), dtype('float64'), dtype('float64')]\n",
      "WARNING:healpy:setting the output map dtype to [dtype('float64'), dtype('float64'), dtype('float64')]\n",
      "WARNING:healpy:setting the output map dtype to [dtype('float64'), dtype('float64'), dtype('float64')]\n",
      "WARNING:healpy:setting the output map dtype to [dtype('float64'), dtype('float64'), dtype('float64')]\n",
      "WARNING:healpy:setting the output map dtype to [dtype('float64'), dtype('float64'), dtype('float64')]\n",
      "WARNING:healpy:setting the output map dtype to [dtype('float64'), dtype('float64'), dtype('float64')]\n",
      "WARNING:healpy:setting the output map dtype to [dtype('float64'), dtype('float64'), dtype('float64')]\n",
      "WARNING:healpy:setting the output map dtype to [dtype('float64'), dtype('float64'), dtype('float64')]\n",
      "WARNING:healpy:setting the output map dtype to [dtype('float64'), dtype('float64'), dtype('float64')]\n",
      "WARNING:healpy:setting the output map dtype to [dtype('float64'), dtype('float64'), dtype('float64')]\n",
      "WARNING:healpy:setting the output map dtype to [dtype('float64'), dtype('float64'), dtype('float64')]\n",
      "WARNING:healpy:setting the output map dtype to [dtype('float64'), dtype('float64'), dtype('float64')]\n"
     ]
    }
   ],
   "source": [
    "nside = 1024\n",
    "instrument = get_instrument('SO_LAT')\n",
    "\n",
    "\n",
    "# add_foreground = 'forse3_d1'\n",
    "\n",
    "# cases = ['d0', 'd1', 'forse3_d0', 'forse3_d1']\n",
    "cases = ['forse3_d0']\n",
    "for add_foreground in cases:\n",
    "    \n",
    "    for mc in range(20):\n",
    "        sims = simulations(nside, instrument)\n",
    "        sims.get_all(add_foreground = add_foreground, noise = 'alms')\n",
    "\n",
    "        components = [CMB()]\n",
    "        lbins = np.arange(42)*50\n",
    "\n",
    "        results, noise_ilc_alms, fg_res_alms = sims.apply_hilc(components, lbins)\n",
    "        hp.write_map('/pscratch/sd/j/jianyao/data_lensing/cleaned_CMB/SO_LAT/CMB_map_from_SO_LAT_%s_HILC_lbins_42x50_lmax_2050_nside_1024_%04d.fits'%(add_foreground, mc), results.s[0], overwrite = True)\n",
    "        hp.write_alm('/pscratch/sd/j/jianyao/data_lensing/cleaned_CMB/SO_LAT/Noise_ilc_alms_from_SO_LAT_%s_HILC_lbins_42x50_lmax_2050_nside_1024_%04d.fits'%(add_foreground, mc), noise_ilc_alms, overwrite = True)\n",
    "        hp.write_alm('/pscratch/sd/j/jianyao/data_lensing/cleaned_CMB/SO_LAT/FG_ilc_alms_from_SO_LAT_%s_HILC_lbins_42x50_lmax_2050_nside_1024_%04d.fits'%(add_foreground, mc), fg_res_alms, overwrite = True)\n",
    "        \n",
    "\n",
    "        # plt.figure(figsize = (10, 8))\n",
    "        # s = 0; e = lbins[-1]\n",
    "        # coeff = ells*(ells+1)/2/np.pi #*coeff\n",
    "        # plt.plot(results['cl_out'][0][0][s:e], '--', label = 'TT')\n",
    "        # plt.loglog(results['cl_out'][0][1][s:e], '--', label = 'EE')\n",
    "        # plt.loglog(results['cl_out'][0][2][s:e], '--', label = 'BB')\n",
    "        # plt.loglog(nl[0])\n",
    "        # plt.loglog(nl[1])\n",
    "        # plt.loglog(nl[2])"
   ]
  },
  {
   "cell_type": "code",
   "execution_count": null,
   "id": "848eb46f-13de-410b-a5a6-0bbe92f27fcd",
   "metadata": {},
   "outputs": [],
   "source": []
  }
 ],
 "metadata": {
  "kernelspec": {
   "display_name": "myTF_GPU_per",
   "language": "python",
   "name": "mytf_gpu_per"
  },
  "language_info": {
   "codemirror_mode": {
    "name": "ipython",
    "version": 3
   },
   "file_extension": ".py",
   "mimetype": "text/x-python",
   "name": "python",
   "nbconvert_exporter": "python",
   "pygments_lexer": "ipython3",
   "version": "3.9.15"
  },
  "toc-autonumbering": true
 },
 "nbformat": 4,
 "nbformat_minor": 5
}
