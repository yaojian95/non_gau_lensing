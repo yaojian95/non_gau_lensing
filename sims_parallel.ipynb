{
 "cells": [
  {
   "cell_type": "code",
   "execution_count": 1,
   "id": "924db21e-1c9c-4ae5-8cac-2e148d0398fd",
   "metadata": {
    "execution": {
     "iopub.execute_input": "2024-03-14T23:33:40.409165Z",
     "iopub.status.busy": "2024-03-14T23:33:40.408770Z",
     "iopub.status.idle": "2024-03-14T23:33:42.783632Z",
     "shell.execute_reply": "2024-03-14T23:33:42.782541Z",
     "shell.execute_reply.started": "2024-03-14T23:33:40.409134Z"
    },
    "tags": []
   },
   "outputs": [],
   "source": [
    "import os\n",
    "\n",
    "os.environ[\n",
    "    \"OMP_NUM_THREADS\"\n",
    "] = \"128\"  # for jupyter.nersc.gov otherwise the notebook only uses 2 cores\n",
    "\n",
    "import seaborn as sns\n",
    "\n",
    "sns.set_context(\"talk\")\n",
    "# sns.set()\n",
    "sns.set_style(\"ticks\")\n",
    "\n",
    "import matplotlib as mpl\n",
    "mpl.rc('image', cmap='coolwarm')\n",
    "\n",
    "import matplotlib.pyplot as plt\n",
    "%matplotlib inline"
   ]
  },
  {
   "cell_type": "code",
   "execution_count": 2,
   "id": "e859e2b5-4c37-42d3-8544-b1c7b6f92bc4",
   "metadata": {
    "execution": {
     "iopub.execute_input": "2024-03-14T23:33:42.787681Z",
     "iopub.status.busy": "2024-03-14T23:33:42.786705Z",
     "iopub.status.idle": "2024-03-14T23:33:42.792030Z",
     "shell.execute_reply": "2024-03-14T23:33:42.791044Z",
     "shell.execute_reply.started": "2024-03-14T23:33:42.787651Z"
    },
    "tags": []
   },
   "outputs": [],
   "source": [
    "import logging\n",
    "log = logging.getLogger(\"healpy\")\n",
    "log.setLevel(logging.ERROR)"
   ]
  },
  {
   "cell_type": "code",
   "execution_count": 3,
   "id": "c2c845f9-bf49-4387-a00b-db18f12cfb4c",
   "metadata": {
    "execution": {
     "iopub.execute_input": "2024-03-14T23:33:42.793518Z",
     "iopub.status.busy": "2024-03-14T23:33:42.793267Z",
     "iopub.status.idle": "2024-03-14T23:33:47.297719Z",
     "shell.execute_reply": "2024-03-14T23:33:47.296879Z",
     "shell.execute_reply.started": "2024-03-14T23:33:42.793494Z"
    },
    "tags": []
   },
   "outputs": [],
   "source": [
    "from fgbuster import (CMB, Dust, Synchrotron, AnalyticComponent,\n",
    "                      basic_comp_sep, \n",
    "                      get_observation, get_instrument)"
   ]
  },
  {
   "cell_type": "code",
   "execution_count": 4,
   "id": "ab45698d-0647-4b41-bc9b-dcae15551be1",
   "metadata": {
    "execution": {
     "iopub.execute_input": "2024-03-14T23:33:47.298870Z",
     "iopub.status.busy": "2024-03-14T23:33:47.298641Z",
     "iopub.status.idle": "2024-03-14T23:33:47.318197Z",
     "shell.execute_reply": "2024-03-14T23:33:47.317573Z",
     "shell.execute_reply.started": "2024-03-14T23:33:47.298852Z"
    },
    "tags": []
   },
   "outputs": [],
   "source": [
    "from simulations import simulations\n",
    "import numpy as np\n",
    "import healpy as hp"
   ]
  },
  {
   "cell_type": "markdown",
   "id": "1d7fb040-7495-404e-ad0e-8b5aa135dbc2",
   "metadata": {},
   "source": [
    "# before mask"
   ]
  },
  {
   "cell_type": "code",
   "execution_count": 5,
   "id": "81ff610f-6a63-4ecf-87ac-7d18dfff43bc",
   "metadata": {
    "execution": {
     "iopub.execute_input": "2024-03-10T14:40:27.762919Z",
     "iopub.status.busy": "2024-03-10T14:40:27.762574Z",
     "iopub.status.idle": "2024-03-10T19:04:30.160050Z",
     "shell.execute_reply": "2024-03-10T19:04:30.158710Z",
     "shell.execute_reply.started": "2024-03-10T14:40:27.762896Z"
    },
    "tags": []
   },
   "outputs": [],
   "source": [
    "data_dir = '/pscratch/sd/j/jianyao/data_lensing/simulations/cleaned_CMB/SO_LAT/'\n",
    "\n",
    "nside = 1024\n",
    "instrument = get_instrument('SO_LAT')\n",
    "\n",
    "cases = ['forse3_d9']\n",
    "results_all = []\n",
    "for add_foreground in cases:\n",
    "    \n",
    "    for mc in range(457, 500):\n",
    "        sims = simulations(nside, instrument, index=mc)\n",
    "        sims.get_all(add_foreground = add_foreground, noise = 'alms', use_phi_alm = True)\n",
    "\n",
    "        components = [CMB()]\n",
    "        lbins = np.arange(42)*50\n",
    "\n",
    "        results, noise_ilc_alms, fg_res_alms = sims.apply_hilc(components, lbins)\n",
    "        # results_all.append(results)\n",
    "        hp.write_alm(data_dir + 'CMB_alms_from_SO_LAT_%s_HILC_lbins_42x50_lmax_2050_nside_1024_%04d.fits'%(add_foreground, mc), hp.map2alm(results.s[0], lmax = lbins[-1]), overwrite = True)\n",
    "        hp.write_alm(data_dir + 'Noise_ilc_alms_from_SO_LAT_%s_HILC_lbins_42x50_lmax_2050_nside_1024_%04d.fits'%(add_foreground, mc), noise_ilc_alms, overwrite = True)\n",
    "        hp.write_alm(data_dir + 'FG_ilc_alms_from_SO_LAT_%s_HILC_lbins_42x50_lmax_2050_nside_1024_%04d.fits'%(add_foreground, mc), fg_res_alms, overwrite = True)\n"
   ]
  },
  {
   "cell_type": "markdown",
   "id": "cfc6d7b0-c5ad-455e-bc40-27e087beb716",
   "metadata": {},
   "source": [
    "# masked version"
   ]
  },
  {
   "cell_type": "code",
   "execution_count": 12,
   "id": "c06eac56-957f-4d06-b554-f2bdad3e056b",
   "metadata": {
    "execution": {
     "iopub.execute_input": "2024-03-14T23:55:11.701332Z",
     "iopub.status.busy": "2024-03-14T23:55:11.700977Z",
     "iopub.status.idle": "2024-03-14T23:55:11.705784Z",
     "shell.execute_reply": "2024-03-14T23:55:11.705029Z",
     "shell.execute_reply.started": "2024-03-14T23:55:11.701307Z"
    },
    "tags": []
   },
   "outputs": [],
   "source": [
    "# data_dir = '/pscratch/sd/j/jianyao/data_lensing/simulations/cleaned_CMB/SO_LAT_MASK/'\n",
    "# SO_LAT_mask = hp.read_map('/pscratch/sd/j/jianyao/data_lensing/SO_LAT_mask_1024.fits')\n",
    "\n",
    "# nside = 1024\n",
    "# instrument = get_instrument('SO_LAT')\n",
    "\n",
    "# results_all = []\n",
    "# for add_foreground in cases:\n",
    "    \n",
    "#     sims = simulations(nside, instrument, mask = SO_LAT_mask)\n",
    "#     for mc in range(1, 500):\n",
    "        \n",
    "#         sims.get_all(add_foreground = add_foreground, noise = 'maps', use_phi_alm = True, index = mc)\n",
    "\n",
    "#         components = [CMB()]\n",
    "#         lbins = np.arange(42)*50\n",
    "\n",
    "#         results, noise_ilc_alms, fg_res_alms = sims.apply_hilc(components, lbins)\n",
    "#         # results_all.append(results)\n",
    "#         hp.write_alm(data_dir + 'CMB_alms_from_SO_LAT_%s_HILC_lbins_42x50_lmax_2050_nside_1024_%04d.fits'%(add_foreground, mc), hp.map2alm(results.s[0], lmax = lbins[-1]), overwrite = True)\n",
    "#         hp.write_alm(data_dir + 'Noise_ilc_alms_from_SO_LAT_%s_HILC_lbins_42x50_lmax_2050_nside_1024_%04d.fits'%(add_foreground, mc), noise_ilc_alms, overwrite = True)\n",
    "#         hp.write_alm(data_dir + 'FG_ilc_alms_from_SO_LAT_%s_HILC_lbins_42x50_lmax_2050_nside_1024_%04d.fits'%(add_foreground, mc), fg_res_alms, overwrite = True)\n",
    "     "
   ]
  },
  {
   "cell_type": "code",
   "execution_count": null,
   "id": "6d3944ff-a9be-4065-8d17-f53e6fb4663f",
   "metadata": {},
   "outputs": [],
   "source": []
  }
 ],
 "metadata": {
  "kernelspec": {
   "display_name": "tensorflow-2.6.0",
   "language": "python",
   "name": "tensorflow-2.6.0"
  },
  "language_info": {
   "codemirror_mode": {
    "name": "ipython",
    "version": 3
   },
   "file_extension": ".py",
   "mimetype": "text/x-python",
   "name": "python",
   "nbconvert_exporter": "python",
   "pygments_lexer": "ipython3",
   "version": "3.9.15"
  }
 },
 "nbformat": 4,
 "nbformat_minor": 5
}
